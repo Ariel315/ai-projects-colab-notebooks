{
  "cells": [
    {
      "cell_type": "code",
      "execution_count": 26,
      "id": "75dc821f",
      "metadata": {
        "id": "75dc821f",
        "outputId": "2b9f06f2-1e75-4eff-b21d-a728ea9232f7",
        "colab": {
          "base_uri": "https://localhost:8080/"
        }
      },
      "outputs": [
        {
          "output_type": "stream",
          "name": "stdout",
          "text": [
            "Requirement already satisfied: azure-ai-formrecognizer in /usr/local/lib/python3.11/dist-packages (3.3.3)\n",
            "Requirement already satisfied: azure-core>=1.23.0 in /usr/local/lib/python3.11/dist-packages (from azure-ai-formrecognizer) (1.34.0)\n",
            "Requirement already satisfied: msrest>=0.6.21 in /usr/local/lib/python3.11/dist-packages (from azure-ai-formrecognizer) (0.7.1)\n",
            "Requirement already satisfied: azure-common>=1.1 in /usr/local/lib/python3.11/dist-packages (from azure-ai-formrecognizer) (1.1.28)\n",
            "Requirement already satisfied: typing-extensions>=4.0.1 in /usr/local/lib/python3.11/dist-packages (from azure-ai-formrecognizer) (4.14.0)\n",
            "Requirement already satisfied: requests>=2.21.0 in /usr/local/lib/python3.11/dist-packages (from azure-core>=1.23.0->azure-ai-formrecognizer) (2.32.3)\n",
            "Requirement already satisfied: six>=1.11.0 in /usr/local/lib/python3.11/dist-packages (from azure-core>=1.23.0->azure-ai-formrecognizer) (1.17.0)\n",
            "Requirement already satisfied: certifi>=2017.4.17 in /usr/local/lib/python3.11/dist-packages (from msrest>=0.6.21->azure-ai-formrecognizer) (2025.4.26)\n",
            "Requirement already satisfied: isodate>=0.6.0 in /usr/local/lib/python3.11/dist-packages (from msrest>=0.6.21->azure-ai-formrecognizer) (0.7.2)\n",
            "Requirement already satisfied: requests-oauthlib>=0.5.0 in /usr/local/lib/python3.11/dist-packages (from msrest>=0.6.21->azure-ai-formrecognizer) (2.0.0)\n",
            "Requirement already satisfied: charset-normalizer<4,>=2 in /usr/local/lib/python3.11/dist-packages (from requests>=2.21.0->azure-core>=1.23.0->azure-ai-formrecognizer) (3.4.2)\n",
            "Requirement already satisfied: idna<4,>=2.5 in /usr/local/lib/python3.11/dist-packages (from requests>=2.21.0->azure-core>=1.23.0->azure-ai-formrecognizer) (3.10)\n",
            "Requirement already satisfied: urllib3<3,>=1.21.1 in /usr/local/lib/python3.11/dist-packages (from requests>=2.21.0->azure-core>=1.23.0->azure-ai-formrecognizer) (2.4.0)\n",
            "Requirement already satisfied: oauthlib>=3.0.0 in /usr/local/lib/python3.11/dist-packages (from requests-oauthlib>=0.5.0->msrest>=0.6.21->azure-ai-formrecognizer) (3.2.2)\n"
          ]
        }
      ],
      "source": [
        "!pip install azure-ai-formrecognizer\n"
      ]
    },
    {
      "cell_type": "code",
      "execution_count": 27,
      "id": "81e0cd6a",
      "metadata": {
        "id": "81e0cd6a"
      },
      "outputs": [],
      "source": [
        "from azure.ai.formrecognizer import DocumentAnalysisClient\n",
        "from azure.core.credentials import AzureKeyCredential\n",
        "import requests\n",
        "from io import BytesIO\n",
        "from PIL import Image\n",
        "from IPython.display import display"
      ]
    },
    {
      "cell_type": "code",
      "execution_count": 28,
      "id": "8d05a046",
      "metadata": {
        "id": "8d05a046",
        "colab": {
          "base_uri": "https://localhost:8080/",
          "height": 672
        },
        "outputId": "bd370e6b-8e5f-4452-e19c-cfe93b038ee3"
      },
      "outputs": [
        {
          "output_type": "display_data",
          "data": {
            "text/plain": [
              "<PIL.PngImagePlugin.PngImageFile image mode=P size=488x238>"
            ],
            "image/png": "[encoded data removed]"
          },
          "metadata": {}
        },
        {
          "output_type": "stream",
          "name": "stdout",
          "text": [
            "\n",
            "==================================================\n",
            "\u001b[1;36m📄 Página número: 1\u001b[0m\n",
            "--------------------------------------------------\n",
            "\u001b[1;32m📌 Línea:\u001b[0m FICHA PERSONAL:\n",
            "\u001b[1;32m📌 Línea:\u001b[0m Nombre:\n",
            "\u001b[1;32m📌 Línea:\u001b[0m José\n",
            "\u001b[1;32m📌 Línea:\u001b[0m Apellidos:\n",
            "\u001b[1;32m📌 Línea:\u001b[0m López Muñoz\n",
            "\u001b[1;32m📌 Línea:\u001b[0m Edad:\n",
            "\u001b[1;32m📌 Línea:\u001b[0m 40 Ciudad: Granada País: España\n",
            "\u001b[1;32m📌 Línea:\u001b[0m Estudios:\n",
            "\u001b[1;32m📌 Línea:\u001b[0m Superiores\n",
            "\u001b[1;32m📌 Línea:\u001b[0m Nivel de ingles:\n",
            "\u001b[1;32m📌 Línea:\u001b[0m bajo:\n",
            "\u001b[1;32m📌 Línea:\u001b[0m Carnet conducir: Si\n",
            "\u001b[1;32m📌 Línea:\u001b[0m medio:\n",
            "\u001b[1;32m📌 Línea:\u001b[0m alto:\n",
            "--------------------------------------------------\n",
            "\u001b[1;33m☑️  Marca de selección:\u001b[0m Estado = unselected\n",
            "\u001b[1;33m☑️  Marca de selección:\u001b[0m Estado = unselected\n",
            "\u001b[1;33m☑️  Marca de selección:\u001b[0m Estado = selected\n",
            "==================================================\n",
            "\n"
          ]
        }
      ],
      "source": [
        "\n",
        "class MicrosoftDataGetter:\n",
        "    def __init__(self, api_key: str, endpoint: str):\n",
        "        self.client = DocumentAnalysisClient(\n",
        "            endpoint=endpoint,\n",
        "            credential=AzureKeyCredential(api_key)\n",
        "        )\n",
        "\n",
        "    def ask_data(self, document_url: str, show_image: bool = True):\n",
        "        #show the image\n",
        "        if show_image:\n",
        "            response = requests.get(document_url)\n",
        "            img = Image.open(BytesIO(response.content))\n",
        "\n",
        "            try:\n",
        "\n",
        "                display(img)\n",
        "            except NameError:\n",
        "                img.show()\n",
        "\n",
        "        # Analizyng document\n",
        "        poller = self.client.begin_analyze_document_from_url(\n",
        "            \"prebuilt-document\", document_url\n",
        "        )\n",
        "        result = poller.result()\n",
        "\n",
        "        # print the result\n",
        "        for page in result.pages:\n",
        "            print(\"\\n\" + \"=\" * 50)\n",
        "            print(f\"\\033[1;36m📄 Página número: {page.page_number}\\033[0m\")\n",
        "            print(\"-\" * 50)\n",
        "            for line in page.lines:\n",
        "                print(f\"\\033[1;32m📌 Línea:\\033[0m {line.content}\")\n",
        "            if page.selection_marks:\n",
        "                print(\"-\" * 50)\n",
        "                for mark in page.selection_marks:\n",
        "                    print(f\"\\033[1;33m☑️  Marca de selección:\\033[0m Estado = {mark.state}\")\n",
        "            print(\"=\" * 50 + \"\\n\")\n",
        "\n",
        "# defining needed variables\n",
        "api_key   = \"8a718cb7921840cabbafe134e1052390\"\n",
        "endpoint  = \"https://ouspeedupapps.cognitiveservices.azure.com/\"\n",
        "img_url   = \"https://www.aulapc.es/paginas/ofimatica/paginas/word/formularios/imagenes/formucon.png\"\n",
        "\n",
        "extractor = MicrosoftDataGetter(api_key, endpoint)\n",
        "extractor.ask_data(img_url, show_image=True)\n"
      ]
    }
  ],
  "metadata": {
    "kernelspec": {
      "display_name": "Python 3 (ipykernel)",
      "language": "python",
      "name": "python3"
    },
    "language_info": {
      "codemirror_mode": {
        "name": "ipython",
        "version": 3
      },
      "file_extension": ".py",
      "mimetype": "text/x-python",
      "name": "python",
      "nbconvert_exporter": "python",
      "pygments_lexer": "ipython3",
      "version": "3.11.5"
    },
    "colab": {
      "provenance": []
    }
  },
  "nbformat": 4,
  "nbformat_minor": 5
}